{
  "nbformat": 4,
  "nbformat_minor": 0,
  "metadata": {
    "colab": {
      "name": "Day1.ipynb",
      "provenance": [],
      "collapsed_sections": [],
      "authorship_tag": "ABX9TyMA4UzIQsshjixFlGBhXAwJ",
      "include_colab_link": true
    },
    "kernelspec": {
      "name": "python3",
      "display_name": "Python 3"
    },
    "language_info": {
      "name": "python"
    }
  },
  "cells": [
    {
      "cell_type": "markdown",
      "metadata": {
        "id": "view-in-github",
        "colab_type": "text"
      },
      "source": [
        "<a href=\"https://colab.research.google.com/github/Xicoat/100DaysCodePython/blob/main/Day1.ipynb\" target=\"_parent\"><img src=\"https://colab.research.google.com/assets/colab-badge.svg\" alt=\"Open In Colab\"/></a>"
      ]
    },
    {
      "cell_type": "code",
      "metadata": {
        "id": "AMqyp60bc29x",
        "colab": {
          "base_uri": "https://localhost:8080/"
        },
        "outputId": "502d9b11-0044-451a-e75e-85837f13489d"
      },
      "source": [
        "print(\"Hello world\")"
      ],
      "execution_count": 1,
      "outputs": [
        {
          "output_type": "stream",
          "text": [
            "Hello world\n"
          ],
          "name": "stdout"
        }
      ]
    },
    {
      "cell_type": "code",
      "metadata": {
        "colab": {
          "base_uri": "https://localhost:8080/"
        },
        "id": "c2ISqAa2gFZr",
        "outputId": "6e855b75-6abd-4239-98cb-1b9f08ddb475"
      },
      "source": [
        "print(\"Day 1 - Python Print Function\\nThe function is declared like this:\\nprint('what to print')\")"
      ],
      "execution_count": 4,
      "outputs": [
        {
          "output_type": "stream",
          "text": [
            "Day 1 - Python Print Function\n",
            "The function is declared like this:\n",
            "print('what to print')\n"
          ],
          "name": "stdout"
        }
      ]
    },
    {
      "cell_type": "code",
      "metadata": {
        "colab": {
          "base_uri": "https://localhost:8080/"
        },
        "id": "Wt7BTRr4geg1",
        "outputId": "7b1f2269-707c-430c-c200-0e1e398e6881"
      },
      "source": [
        "print(\"Hello\" + \" \" + \"My Friend\")"
      ],
      "execution_count": 7,
      "outputs": [
        {
          "output_type": "stream",
          "text": [
            "Hello My Friend\n"
          ],
          "name": "stdout"
        }
      ]
    },
    {
      "cell_type": "code",
      "metadata": {
        "colab": {
          "base_uri": "https://localhost:8080/"
        },
        "id": "gukH28PYha5t",
        "outputId": "51dd4031-3a84-4d45-89d0-b2e0d9ba91eb"
      },
      "source": [
        "print(\"Day 1 - String Manipulation\")\n",
        "print('String Concatenation is done with the \"+\" sign.')\n",
        "print('e.g. print(\"Hello\" + \"world\")')\n",
        "print(\"New lines can be created with a backslash and n.\")"
      ],
      "execution_count": 9,
      "outputs": [
        {
          "output_type": "stream",
          "text": [
            "Day 1 - String Manipulation\n",
            "String Concatenation is done with the \"+\" sign.\n",
            "e.g. print(\"Hello\" + \"world\")\n",
            "New lines can be created with a backslash and n.\n"
          ],
          "name": "stdout"
        }
      ]
    },
    {
      "cell_type": "code",
      "metadata": {
        "colab": {
          "base_uri": "https://localhost:8080/",
          "height": 52
        },
        "id": "HVwfmr6SjPe2",
        "outputId": "b3413cae-b3e6-4c02-ec87-05a40baaf148"
      },
      "source": [
        "input(\"What is your name?\")"
      ],
      "execution_count": 10,
      "outputs": [
        {
          "output_type": "stream",
          "text": [
            "What is your name?Carlos\n"
          ],
          "name": "stdout"
        },
        {
          "output_type": "execute_result",
          "data": {
            "application/vnd.google.colaboratory.intrinsic+json": {
              "type": "string"
            },
            "text/plain": [
              "'Carlos'"
            ]
          },
          "metadata": {
            "tags": []
          },
          "execution_count": 10
        }
      ]
    },
    {
      "cell_type": "code",
      "metadata": {
        "colab": {
          "base_uri": "https://localhost:8080/"
        },
        "id": "pmBzree5j4av",
        "outputId": "1d021539-b4e2-45ab-b829-3e1c2e071854"
      },
      "source": [
        "# Este es un comentario\n",
        "print(\"Hola\" + \" \" + input(\"What is your name? \") + \"!\" )"
      ],
      "execution_count": 16,
      "outputs": [
        {
          "output_type": "stream",
          "text": [
            "What is your name? Carlos\n",
            "Hola Carlos!\n"
          ],
          "name": "stdout"
        }
      ]
    },
    {
      "cell_type": "code",
      "metadata": {
        "colab": {
          "base_uri": "https://localhost:8080/"
        },
        "id": "ZcO6fTOhkSre",
        "outputId": "e6c6bff6-8c84-4b87-e7ba-6a5b80848be8"
      },
      "source": [
        "# len regresa la longitud de una cadena\n",
        "print(len(input(\"What is your name?\")))"
      ],
      "execution_count": 33,
      "outputs": [
        {
          "output_type": "stream",
          "text": [
            "What is your name?sfdfsdf\n",
            "7\n"
          ],
          "name": "stdout"
        }
      ]
    },
    {
      "cell_type": "code",
      "metadata": {
        "colab": {
          "base_uri": "https://localhost:8080/"
        },
        "id": "NskFK9izmOU0",
        "outputId": "d7ac0c90-5c3a-4dff-d112-4950c2e26046"
      },
      "source": [
        "name = input(\"What is your name?\")\n",
        "lenght = len(name)\n",
        "print(lenght)"
      ],
      "execution_count": 34,
      "outputs": [
        {
          "output_type": "stream",
          "text": [
            "What is your name?Carlos\n",
            "6\n"
          ],
          "name": "stdout"
        }
      ]
    },
    {
      "cell_type": "code",
      "metadata": {
        "colab": {
          "base_uri": "https://localhost:8080/"
        },
        "id": "VLyZCFZnoS_5",
        "outputId": "3c98b9d2-4ffd-4547-b88d-1bede38acda7"
      },
      "source": [
        "a = input(\"a:\")\n",
        "b = input(\"b:\")\n",
        "\n",
        "## Aqui va el código\n",
        "\n",
        "b, a = a, b\n",
        "\n",
        "## Fin modificación\n",
        "\n",
        "print(\"a = \" + a)\n",
        "print(\"b = \" + b)"
      ],
      "execution_count": 35,
      "outputs": [
        {
          "output_type": "stream",
          "text": [
            "a:Carlos\n",
            "b:Manuel\n",
            "a = Manuel\n",
            "b = Carlos\n"
          ],
          "name": "stdout"
        }
      ]
    },
    {
      "cell_type": "code",
      "metadata": {
        "colab": {
          "base_uri": "https://localhost:8080/"
        },
        "id": "tQA3xGQAo-z_",
        "outputId": "8e7a2a21-d971-4582-96ec-db01cdb67c27"
      },
      "source": [
        "# Proyecto Day 1\n",
        "print(\"Welcome to the Band Name Generator\")\n",
        "city = input(\"What's name of the city you grew up in?\\n\")\n",
        "pet = input(\"What's your pet's name?\\n\")\n",
        "print(\"Your band name could be \" + city + \" \" + pet)\n"
      ],
      "execution_count": 39,
      "outputs": [
        {
          "output_type": "stream",
          "text": [
            "Welcome to the Band Name Generator\n",
            "What's name of the city you grew up in?\n",
            "CA\n",
            "What's your pet's name?\n",
            "fd\n",
            "Your band name could be CA fd\n"
          ],
          "name": "stdout"
        }
      ]
    },
    {
      "cell_type": "code",
      "metadata": {
        "id": "Z9t3BLkZqpIb"
      },
      "source": [
        ""
      ],
      "execution_count": 37,
      "outputs": []
    }
  ]
}