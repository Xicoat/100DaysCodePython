{
  "nbformat": 4,
  "nbformat_minor": 0,
  "metadata": {
    "colab": {
      "name": "Day 11.ipynb",
      "provenance": [],
      "mount_file_id": "1ix7mZ6Ca-xZXophaAhFZFuHSk_H95EyK",
      "authorship_tag": "ABX9TyOrQGUWqO38U7oqpd1Ac2tG",
      "include_colab_link": true
    },
    "kernelspec": {
      "name": "python3",
      "display_name": "Python 3"
    },
    "language_info": {
      "name": "python"
    }
  },
  "cells": [
    {
      "cell_type": "markdown",
      "metadata": {
        "id": "view-in-github",
        "colab_type": "text"
      },
      "source": [
        "<a href=\"https://colab.research.google.com/github/Xicoat/100DaysCodePython/blob/main/Day_11.ipynb\" target=\"_parent\"><img src=\"https://colab.research.google.com/assets/colab-badge.svg\" alt=\"Open In Colab\"/></a>"
      ]
    },
    {
      "cell_type": "code",
      "metadata": {
        "id": "RkAefloDi3_r"
      },
      "source": [
        "from BJLogo import *"
      ],
      "execution_count": null,
      "outputs": []
    },
    {
      "cell_type": "code",
      "metadata": {
        "id": "F6N-ky-ryTFy"
      },
      "source": [
        "!cp \"/content/gdrive/MyDrive/Colab Notebooks/100DaysCodePython/BJLogo.py\" . "
      ],
      "execution_count": null,
      "outputs": []
    },
    {
      "cell_type": "code",
      "metadata": {
        "id": "5fvDaZ7bSoHX",
        "colab": {
          "base_uri": "https://localhost:8080/"
        },
        "outputId": "055888b8-6929-485a-fce3-eed914377c83"
      },
      "source": [
        "from random import randint\n",
        "import random\n",
        "\n",
        "def reparte(player, cantidad):\n",
        "  mazo = [11, 2, 3, 4, 5, 6, 7, 8, 9, 10, 10, 10, 10]\n",
        "  # elige una carta de forma aleatoria y la agrega a la mano del jugador\n",
        "  for _ in range(cantidad):\n",
        "    player[\"mano\"].append(random.choice(mazo))\n",
        "    #player[\"mano\"].append(mazo[randint(0, 10)])\n",
        "  # actualiza score\n",
        "  actualiza_score(player)\n",
        "\n",
        "def actualiza_score(player):\n",
        "  # suma los valores de las cartas del mazo\n",
        "  if (11 in player[\"mano\"] and sum(player[\"mano\"]) > 21):\n",
        "    player[player[\"mano\"].index(11)] = 1\n",
        "  player[\"score\"] = sum(player[\"mano\"])\n",
        "\n",
        "def check_score(player):\n",
        "  actualiza_score(player)\n",
        "  print(\"Your cards: {}, current score: {}\".format(player[\"mano\"], player[\"score\"]))\n",
        "  if player[\"score\"] < 21:\n",
        "    return False\n",
        "  else:\n",
        "    return True\n",
        "\n",
        "def crupier_turn(player):\n",
        "  while(player[\"score\"]<17):\n",
        "    reparte(player, 1)\n",
        "  player[\"plant\"] = True\n",
        "  print(\"Computer's final hand: {}, final score: {}\".format(player[\"mano\"], player[\"score\"]))\n",
        "  \n",
        "def is_winner(player1, player2):\n",
        "  if(player1[\"score\"]>21):\n",
        "    print(\"Your score: {}. You went over. You lose\".format(player1[\"score\"]))\n",
        "    return True\n",
        "  elif(player1[\"plant\"]==True and player2[\"plant\"]==False):\n",
        "    print(\"Crupier Turn...\")\n",
        "    return False\n",
        "  elif(player2[\"score\"]>21):\n",
        "    print(\"Computer went over. Computer score: {}. You win\".format(player2[\"score\"]))\n",
        "  elif(player1[\"score\"] == player2[\"score\"]):\n",
        "    print(\"Draw\")\n",
        "  elif(player2[\"score\"]<player1[\"score\"]):\n",
        "    print(\"YOU WIN!!! Your score: {}, Computer score: {}.\".format(player1[\"score\"], player2[\"score\"]))\n",
        "  elif(player1[\"score\"]<player2[\"score\"]):\n",
        "    print(\"YOU LOSE!!! Your score: {}, Computer score: {}.\".format(player1[\"score\"], player2[\"score\"]))\n",
        "  return False\n",
        "\n",
        "def main():\n",
        "  while(input(\"Do you want to play a game of Blackjack? Type 'y' or 'n':\") == 'y'):\n",
        "    player1 = {\"mano\":[], \"score\":0, \"plant\":False}\n",
        "    player2 = {\"mano\":[], \"score\":0, \"plant\":False}\n",
        "\n",
        "    reparte(player1, 2)\n",
        "    reparte(player2, 1)\n",
        "\n",
        "    print(\"Your cards: {}, current score: {}\".format(player1[\"mano\"], player1[\"score\"]))\n",
        "    print(\"Computer's first card: {}\".format(player2[\"score\"]))\n",
        "    while(input(\"Type 'y' to get another card, type 'n' to pass: \") == 'y'):\n",
        "      reparte(player1, 1)\n",
        "      if check_score(player1) == True:\n",
        "        break\n",
        "    player1[\"plant\"] = True\n",
        "    if(is_winner(player1, player2) == False):\n",
        "      crupier_turn(player2)\n",
        "      player2[\"plant\"] = True\n",
        "      is_winner(player1, player2)\n",
        "\n",
        "if __name__ == \"__main__\":\n",
        "    main()"
      ],
      "execution_count": 12,
      "outputs": [
        {
          "name": "stdout",
          "output_type": "stream",
          "text": [
            "Do you want to play a game of Blackjack? Type 'y' or 'n':y\n",
            "Your cards: [6, 4], current score: 10\n",
            "Computer's first card: 8\n",
            "Type 'y' to get another card, type 'n' to pass: y\n",
            "Your cards: [6, 4, 4], current score: 14\n",
            "Type 'y' to get another card, type 'n' to pass: y\n",
            "Your cards: [6, 4, 4, 10], current score: 24\n",
            "Your score: 24. You went over. You lose\n",
            "Do you want to play a game of Blackjack? Type 'y' or 'n':y\n",
            "Your cards: [10, 7], current score: 17\n",
            "Computer's first card: 5\n",
            "Type 'y' to get another card, type 'n' to pass: y\n",
            "Your cards: [10, 7, 7], current score: 24\n",
            "Your score: 24. You went over. You lose\n",
            "Do you want to play a game of Blackjack? Type 'y' or 'n':n\n"
          ]
        }
      ]
    },
    {
      "cell_type": "code",
      "metadata": {
        "id": "V0A8adShS-tV"
      },
      "source": [
        "score = 0\n",
        "your_cards = []\n",
        "computer_cards = []\n"
      ],
      "execution_count": null,
      "outputs": []
    },
    {
      "cell_type": "code",
      "metadata": {
        "id": "h3SIRw_EUYdh"
      },
      "source": [
        "def reparte(player, cantidad):\n",
        "  \n"
      ],
      "execution_count": null,
      "outputs": []
    },
    {
      "cell_type": "code",
      "metadata": {
        "colab": {
          "base_uri": "https://localhost:8080/"
        },
        "id": "dl5-iV0OcJaM",
        "outputId": "af6f233b-dbc6-484e-ab5a-b5a7658e22d2"
      },
      "source": [
        "order = {\n",
        "    \"starter\": {1: \"Salad\", 2: \"Soup\"},\n",
        "    \"main\": {1: [\"Burger\", \"Fries\"], 2: [\"Steak\"]},\n",
        "    \"dessert\": {1: [\"Ice Cream\"], 2: []},\n",
        "}\n",
        "\n",
        "print(order[\"starter\"])"
      ],
      "execution_count": null,
      "outputs": [
        {
          "output_type": "stream",
          "name": "stdout",
          "text": [
            "{1: 'Salad', 2: 'Soup'}\n"
          ]
        }
      ]
    },
    {
      "cell_type": "code",
      "metadata": {
        "colab": {
          "base_uri": "https://localhost:8080/"
        },
        "id": "4IDyBS2pcMJm",
        "outputId": "ea7dc34b-6ba3-4f54-a9bc-49eb1fee93b4"
      },
      "source": [
        "order = {\"mano\":[1,2,3,4,5]}\n",
        "print(order)\n",
        "score = 0\n",
        "for i in order[\"mano\"]:\n",
        "  score += i\n",
        "  print(score)"
      ],
      "execution_count": null,
      "outputs": [
        {
          "output_type": "stream",
          "name": "stdout",
          "text": [
            "{'mano': [1, 2, 3, 4, 5]}\n",
            "1\n",
            "3\n",
            "6\n",
            "10\n",
            "15\n"
          ]
        }
      ]
    },
    {
      "cell_type": "code",
      "metadata": {
        "id": "T3OsR7n5deiN",
        "colab": {
          "base_uri": "https://localhost:8080/"
        },
        "outputId": "759c8199-7d7f-48db-c81a-fc648c5ddf1b"
      },
      "source": [
        "lista = [1,2,3,4,5,5,7]\n",
        "7 in lista\n",
        "print(lista[lista.index(5)])\n"
      ],
      "execution_count": 8,
      "outputs": [
        {
          "output_type": "stream",
          "name": "stdout",
          "text": [
            "5\n"
          ]
        }
      ]
    },
    {
      "cell_type": "code",
      "metadata": {
        "id": "9j4VnFaJe---"
      },
      "source": [
        ""
      ],
      "execution_count": null,
      "outputs": []
    }
  ]
}