{
  "nbformat": 4,
  "nbformat_minor": 0,
  "metadata": {
    "colab": {
      "name": "Day 12.ipynb",
      "provenance": [],
      "authorship_tag": "ABX9TyMLaQKogA9Ya6hZOA0bni+2",
      "include_colab_link": true
    },
    "kernelspec": {
      "name": "python3",
      "display_name": "Python 3"
    },
    "language_info": {
      "name": "python"
    }
  },
  "cells": [
    {
      "cell_type": "markdown",
      "metadata": {
        "id": "view-in-github",
        "colab_type": "text"
      },
      "source": [
        "<a href=\"https://colab.research.google.com/github/Xicoat/100DaysCodePython/blob/main/Day_12.ipynb\" target=\"_parent\"><img src=\"https://colab.research.google.com/assets/colab-badge.svg\" alt=\"Open In Colab\"/></a>"
      ]
    },
    {
      "cell_type": "code",
      "metadata": {
        "colab": {
          "base_uri": "https://localhost:8080/"
        },
        "id": "E18yj346Fqoj",
        "outputId": "34fe0690-2b88-4542-f2a2-b196e8c29334"
      },
      "source": [
        "# Scope % number Guessing Game\n",
        "# Final project\n",
        "from random import randint\n",
        "\n",
        "print(\"Wlcome to the Number guessing Game!\")\n",
        "print(\"I'm thinking of a number between 1 and 100\")\n",
        "number = randint(0, 100)\n",
        "\n",
        "if ('easy' == input(\"Choose a difficulty. type 'easy' or 'hard': \")):\n",
        "  difficulty = 10\n",
        "else:\n",
        "  difficulty = 5\n",
        "\n",
        "for i in range(difficulty):\n",
        "  print(\"You have {} attempts remaining to guess the number.\".format(difficulty-i))\n",
        "  guess = int(input(\"make a guess: \"))\n",
        "  if (guess > number):\n",
        "    print(\"Too high.\")\n",
        "    print(\"Guess again.\")\n",
        "  elif (guess < number):\n",
        "    print(\"Too low.\")\n",
        "    print(\"Guess again.\")\n",
        "  elif (guess == number):\n",
        "    print(\"win\")\n",
        "    break\n",
        "\n",
        "print(\"This repl has exited, run again ?\")\n"
      ],
      "execution_count": 13,
      "outputs": [
        {
          "output_type": "stream",
          "name": "stdout",
          "text": [
            "Wlcome to the Number guessing Game!\n",
            "I'm thinking of a number between 1 and 100\n",
            "Choose a difficulty. type 'easy' or 'hard': easy\n",
            "You have 10 attempts remaining to guess the number.\n",
            "make a guess: 50\n",
            "Too low.\n",
            "Guess again.\n",
            "You have 9 attempts remaining to guess the number.\n",
            "make a guess: 75\n",
            "Too high.\n",
            "Guess again.\n",
            "You have 8 attempts remaining to guess the number.\n",
            "make a guess: 60\n",
            "Too high.\n",
            "Guess again.\n",
            "You have 7 attempts remaining to guess the number.\n",
            "make a guess: 55\n",
            "Too high.\n",
            "Guess again.\n",
            "You have 6 attempts remaining to guess the number.\n",
            "make a guess: 52\n",
            "Too low.\n",
            "Guess again.\n",
            "You have 5 attempts remaining to guess the number.\n",
            "make a guess: 53\n",
            "win\n",
            "This repl has exited, run again ?\n"
          ]
        }
      ]
    },
    {
      "cell_type": "code",
      "metadata": {
        "id": "snAhPGPqSbn0"
      },
      "source": [
        ""
      ],
      "execution_count": null,
      "outputs": []
    }
  ]
}