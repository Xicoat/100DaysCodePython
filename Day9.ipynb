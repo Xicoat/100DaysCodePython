{
  "nbformat": 4,
  "nbformat_minor": 0,
  "metadata": {
    "colab": {
      "name": "Day9.ipynb",
      "provenance": [],
      "collapsed_sections": [],
      "authorship_tag": "ABX9TyOjITTwhmj3F/2m7CS68zmB",
      "include_colab_link": true
    },
    "kernelspec": {
      "name": "python3",
      "display_name": "Python 3"
    },
    "language_info": {
      "name": "python"
    }
  },
  "cells": [
    {
      "cell_type": "markdown",
      "metadata": {
        "id": "view-in-github",
        "colab_type": "text"
      },
      "source": [
        "<a href=\"https://colab.research.google.com/github/Xicoat/100DaysCodePython/blob/main/Day9.ipynb\" target=\"_parent\"><img src=\"https://colab.research.google.com/assets/colab-badge.svg\" alt=\"Open In Colab\"/></a>"
      ]
    },
    {
      "cell_type": "code",
      "metadata": {
        "id": "tDEI7IotWrna"
      },
      "source": [
        "# Diccionarios y anidamiento"
      ],
      "execution_count": 2,
      "outputs": []
    },
    {
      "cell_type": "code",
      "metadata": {
        "id": "1U2MEBdFX0iM"
      },
      "source": [
        "#Diccionarios\n",
        "{key:value}\n",
        "{key1:value1, key2:value2,...,keyn:valuen}"
      ],
      "execution_count": null,
      "outputs": []
    },
    {
      "cell_type": "code",
      "metadata": {
        "id": "8BS8HxhDYKiz"
      },
      "source": [
        "programming_dictionary = {\n",
        "    \"Bug\": \"An error in a program that prevents the program from running as expected.\", \n",
        "    \"Function\": \"A piece of code that you can easily call over and over again.\",}"
      ],
      "execution_count": 6,
      "outputs": []
    },
    {
      "cell_type": "code",
      "metadata": {
        "colab": {
          "base_uri": "https://localhost:8080/",
          "height": 35
        },
        "id": "bsTV0WjGeLxd",
        "outputId": "32a9a154-38c3-431f-89b4-1cdfdb960e06"
      },
      "source": [
        "programming_dictionary[\"Bug\"]"
      ],
      "execution_count": 5,
      "outputs": [
        {
          "output_type": "execute_result",
          "data": {
            "application/vnd.google.colaboratory.intrinsic+json": {
              "type": "string"
            },
            "text/plain": [
              "'An error in a program that prevents the program from running as expected.'"
            ]
          },
          "metadata": {
            "tags": []
          },
          "execution_count": 5
        }
      ]
    },
    {
      "cell_type": "code",
      "metadata": {
        "id": "-k8GqEUXeOvL"
      },
      "source": [
        "# Add a new entry\n",
        "# O sobreescribe una llave previamente asignada\n",
        "programming_dictionary[\"Loop\"]= \"The action of doing something over and over again.\""
      ],
      "execution_count": 9,
      "outputs": []
    },
    {
      "cell_type": "code",
      "metadata": {
        "id": "U9tlZf_9fF9s"
      },
      "source": [
        "# Se puede crear un diccionario vacio:\n",
        "# O borrar un diccionario existente:\n",
        "new_dict = {}\n",
        "\n",
        "# Y posteriormente agregar elementos con:\n",
        "new_dict[] = "
      ],
      "execution_count": null,
      "outputs": []
    },
    {
      "cell_type": "code",
      "metadata": {
        "colab": {
          "base_uri": "https://localhost:8080/"
        },
        "id": "bXK1CFBXfver",
        "outputId": "9f6a400d-85ea-4998-e036-baf4ea323f64"
      },
      "source": [
        "programming_dictionary"
      ],
      "execution_count": 11,
      "outputs": [
        {
          "output_type": "execute_result",
          "data": {
            "text/plain": [
              "{'Bug': 'An error in a program that prevents the program from running as expected.',\n",
              " 'Function': 'A piece of code that you can easily call over and over again.',\n",
              " 'Loop': 'The action of doing something over and over again.'}"
            ]
          },
          "metadata": {
            "tags": []
          },
          "execution_count": 11
        }
      ]
    },
    {
      "cell_type": "code",
      "metadata": {
        "colab": {
          "base_uri": "https://localhost:8080/"
        },
        "id": "LkipzmJOfxV7",
        "outputId": "8bcaaa9b-29b5-4d60-aa92-f7da5f155559"
      },
      "source": [
        "for i in programming_dictionary:\n",
        "  print (programming_dictionary[i])\n",
        "\n",
        "for i in programming_dictionary:\n",
        "  print (i)"
      ],
      "execution_count": 15,
      "outputs": [
        {
          "output_type": "stream",
          "text": [
            "An error in a program that prevents the program from running as expected.\n",
            "A piece of code that you can easily call over and over again.\n",
            "The action of doing something over and over again.\n",
            "Bug\n",
            "Function\n",
            "Loop\n"
          ],
          "name": "stdout"
        }
      ]
    },
    {
      "cell_type": "code",
      "metadata": {
        "id": "X_w4Pqh-hIuU"
      },
      "source": [
        "# Coding Excercise\n",
        "student_scores = {\n",
        "  \"Harry\": 81,\n",
        "  \"Ron\": 78,\n",
        "  \"Hermione\": 99, \n",
        "  \"Draco\": 74,\n",
        "  \"Neville\": 62,\n",
        "}\n",
        "\n",
        "student_grades = {}\n",
        "\n",
        "for i in student_scores:\n",
        "  grade = \"\"\n",
        "  if student_scores[i] > 90:\n",
        "    grade = \"Outstanding\"\n",
        "  elif  student_scores[i] > 80:\n",
        "    grade = \"Exceeds Expectations\"\n",
        "  elif student_scores[i] > 70:\n",
        "    grade = \"Acceptable\"\n",
        "  else:\n",
        "    grade = \"Fail\"\n",
        "  student_grades[i] = grade \n",
        "\n",
        "print(student_grades)\n"
      ],
      "execution_count": null,
      "outputs": []
    },
    {
      "cell_type": "code",
      "metadata": {
        "id": "6nGpTJwSlKuE"
      },
      "source": [
        "# Nesting\n",
        "#{key: Value, key2: Value2}\n",
        "#{key: [List], key2:{Dict}\n",
        "capitals = {\n",
        "  \"France\": \"Paris\",\n",
        "  \"Germany\": \"Berlin\",\n",
        "}\n",
        "\n",
        "travel_log = {\n",
        "  \"France\": [\"Paris\", \"Lille\", \"Dijon\"],\n",
        "  \"Germany\": [\"Berlin\", \"Hamburg\", \"Stuttgart\"],\n",
        "}"
      ],
      "execution_count": 16,
      "outputs": []
    },
    {
      "cell_type": "code",
      "metadata": {
        "id": "gtXXrL7sm0_q"
      },
      "source": [
        "#Nesting Dictionary in a Dictionary\n",
        "\n",
        "travel_log = {\n",
        "  \"France\": {\"cities_visited\": [\"Paris\", \"Lille\", \"Dijon\"], \"total_visits\": 12},\n",
        "  \"Germany\": {\"cities_visited\": [\"Berlin\", \"Hamburg\", \"Stuttgart\"], \"total_visits\": 5},\n",
        "}\n",
        "\n",
        "#Nesting Dictionaries in Lists\n",
        "travel_log = [\n",
        "{\n",
        "  \"country\": \"France\", \n",
        "  \"cities_visited\": [\"Paris\", \"Lille\", \"Dijon\"], \n",
        "  \"total_visits\": 12,\n",
        "},\n",
        "{\n",
        "  \"country\": \"Germany\",\n",
        "  \"cities_visited\": [\"Berlin\", \"Hamburg\", \"Stuttgart\"],\n",
        "  \"total_visits\": 5,\n",
        "},"
      ],
      "execution_count": null,
      "outputs": []
    },
    {
      "cell_type": "code",
      "metadata": {
        "id": "zGUl3O98meYv"
      },
      "source": [
        "order = {\n",
        "    \"starter\": {1: \"Salad\", 2: \"Soup\"},\n",
        "    \"main\": {1: [\"Burger\", \"Fries\"], 2: [\"Steak\"]},\n",
        "    \"dessert\": {1: [\"Ice Cream\"], 2: []},\n",
        "}"
      ],
      "execution_count": 17,
      "outputs": []
    },
    {
      "cell_type": "code",
      "metadata": {
        "id": "sxdccnrsu_Mj"
      },
      "source": [
        "dict = {\n",
        "    \"a\": 1,\n",
        "    \"b\": 2,\n",
        "    \"c\": 3,\n",
        "}\n",
        "\n"
      ],
      "execution_count": 22,
      "outputs": []
    },
    {
      "cell_type": "code",
      "metadata": {
        "colab": {
          "base_uri": "https://localhost:8080/"
        },
        "id": "y9701UNqvC95",
        "outputId": "2f2c5f6b-2bc1-4ced-9478-c34f513da140"
      },
      "source": [
        "final_dictionary = starting_dictionary\n",
        "print(final_dictionary)"
      ],
      "execution_count": 23,
      "outputs": [
        {
          "output_type": "stream",
          "text": [
            "{'a': 9, 'b': 8}\n"
          ],
          "name": "stdout"
        }
      ]
    },
    {
      "cell_type": "code",
      "metadata": {
        "id": "LB_ADTquvay5"
      },
      "source": [
        "from replit import clear\n",
        "#HINT: You can call clear() to clear the output in the console.\n",
        "from art import logo\n",
        "\n",
        "print(logo)\n",
        "print(\"Welcome to the secret auction program\")\n",
        "\n",
        "bidders = {}\n",
        "one_more = \"Y\"\n",
        "\n",
        "while (one_more == \"Y\"):\n",
        "  name = input(\"What is your name? \")\n",
        "  bid = input(\"What is your bid?: $\")\n",
        "  bidders[name] = bid\n",
        "  one_more = input(\"Are there any other bidders? Type 'Y' or 'N'\")\n",
        "  clear()\n",
        "\n",
        "highest = 0\n",
        "winner = \"\"\n",
        "for i in bidders:\n",
        "  if int(bidders[i]) > int(highest):\n",
        "    highest = bidders[i]\n",
        "    winner = i\n",
        "\n",
        "print(f\"The winner is {bidders[winner]}\")"
      ],
      "execution_count": null,
      "outputs": []
    }
  ]
}