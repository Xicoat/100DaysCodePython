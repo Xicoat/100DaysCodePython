{
  "nbformat": 4,
  "nbformat_minor": 0,
  "metadata": {
    "colab": {
      "name": "Day2.ipynb",
      "provenance": [],
      "authorship_tag": "ABX9TyO1dd2hQn5UCHZw3yQ00xty",
      "include_colab_link": true
    },
    "kernelspec": {
      "name": "python3",
      "display_name": "Python 3"
    },
    "language_info": {
      "name": "python"
    }
  },
  "cells": [
    {
      "cell_type": "markdown",
      "metadata": {
        "id": "view-in-github",
        "colab_type": "text"
      },
      "source": [
        "<a href=\"https://colab.research.google.com/github/Xicoat/100DaysCodePython/blob/main/Day2.ipynb\" target=\"_parent\"><img src=\"https://colab.research.google.com/assets/colab-badge.svg\" alt=\"Open In Colab\"/></a>"
      ]
    },
    {
      "cell_type": "code",
      "metadata": {
        "colab": {
          "base_uri": "https://localhost:8080/",
          "height": 180
        },
        "id": "fTna6fDh9xrh",
        "outputId": "217f1d83-d33d-42dd-e8e6-774ef9ff06fc"
      },
      "source": [
        "# El tipo de datos int no tiene método len\n",
        "len(234)"
      ],
      "execution_count": 1,
      "outputs": [
        {
          "output_type": "error",
          "ename": "TypeError",
          "evalue": "ignored",
          "traceback": [
            "\u001b[0;31m---------------------------------------------------------------------------\u001b[0m",
            "\u001b[0;31mTypeError\u001b[0m                                 Traceback (most recent call last)",
            "\u001b[0;32m<ipython-input-1-b4884320b022>\u001b[0m in \u001b[0;36m<module>\u001b[0;34m()\u001b[0m\n\u001b[1;32m      1\u001b[0m \u001b[0;31m# el tipo de datos int no tiene método len\u001b[0m\u001b[0;34m\u001b[0m\u001b[0;34m\u001b[0m\u001b[0;34m\u001b[0m\u001b[0m\n\u001b[0;32m----> 2\u001b[0;31m \u001b[0mlen\u001b[0m\u001b[0;34m(\u001b[0m\u001b[0;36m234\u001b[0m\u001b[0;34m)\u001b[0m\u001b[0;34m\u001b[0m\u001b[0;34m\u001b[0m\u001b[0m\n\u001b[0m",
            "\u001b[0;31mTypeError\u001b[0m: object of type 'int' has no len()"
          ]
        }
      ]
    },
    {
      "cell_type": "code",
      "metadata": {
        "colab": {
          "base_uri": "https://localhost:8080/"
        },
        "id": "LzF1UDdr-e0s",
        "outputId": "a29c8064-be81-4dca-b165-ef9fd0e1da27"
      },
      "source": [
        "# String\n",
        "# Las cadenas estan compuestas de caracteres que pueden ser llamados individualmente\n",
        "print(\"Hello\"[4])\n"
      ],
      "execution_count": 3,
      "outputs": [
        {
          "output_type": "stream",
          "text": [
            "o\n"
          ],
          "name": "stdout"
        }
      ]
    },
    {
      "cell_type": "code",
      "metadata": {
        "colab": {
          "base_uri": "https://localhost:8080/"
        },
        "id": "cIRSoIbg_Mot",
        "outputId": "3a7312cf-9650-4f22-e5da-fe554c8a0715"
      },
      "source": [
        "# Integer\n",
        "# Para declarar un entero simplemente escribimos el numero sin nada adicional\n",
        "123 + 345"
      ],
      "execution_count": 5,
      "outputs": [
        {
          "output_type": "execute_result",
          "data": {
            "text/plain": [
              "468"
            ]
          },
          "metadata": {
            "tags": []
          },
          "execution_count": 5
        }
      ]
    },
    {
      "cell_type": "code",
      "metadata": {
        "colab": {
          "base_uri": "https://localhost:8080/"
        },
        "id": "nJ8XMa8U_3Td",
        "outputId": "02baea69-11e9-4a85-c2f2-d7c6402137ee"
      },
      "source": [
        "# Para visualizar numeros enteros muy largos podemos usar guion bajo\n",
        "123_235_346_534_634"
      ],
      "execution_count": 7,
      "outputs": [
        {
          "output_type": "execute_result",
          "data": {
            "text/plain": [
              "123235346534634"
            ]
          },
          "metadata": {
            "tags": []
          },
          "execution_count": 7
        }
      ]
    },
    {
      "cell_type": "code",
      "metadata": {
        "colab": {
          "base_uri": "https://localhost:8080/"
        },
        "id": "Qt71JUCVAS-F",
        "outputId": "cf04d33c-9c48-46f4-c0a3-c239c47c9a4f"
      },
      "source": [
        "# Float\n",
        "# Puede almacenar números decimales.\n",
        "3.1415\n"
      ],
      "execution_count": 8,
      "outputs": [
        {
          "output_type": "execute_result",
          "data": {
            "text/plain": [
              "3.1415"
            ]
          },
          "metadata": {
            "tags": []
          },
          "execution_count": 8
        }
      ]
    },
    {
      "cell_type": "code",
      "metadata": {
        "colab": {
          "base_uri": "https://localhost:8080/"
        },
        "id": "1OuKDOMSCN7N",
        "outputId": "00e19e95-f176-4e74-e14f-f40484352d85"
      },
      "source": [
        "# Boolean\n",
        "True\n",
        "False"
      ],
      "execution_count": 9,
      "outputs": [
        {
          "output_type": "execute_result",
          "data": {
            "text/plain": [
              "False"
            ]
          },
          "metadata": {
            "tags": []
          },
          "execution_count": 9
        }
      ]
    },
    {
      "cell_type": "code",
      "metadata": {
        "colab": {
          "base_uri": "https://localhost:8080/",
          "height": 214
        },
        "id": "HlMB01dWCSj1",
        "outputId": "26128a97-d7c4-4c19-a56b-be093d8e160d"
      },
      "source": [
        "# Errores de tipo de dato\n",
        "num_char = len(input(\"What is your name?\"))\n",
        "print(\"Your name has \" + num_char + \"characters\")"
      ],
      "execution_count": 10,
      "outputs": [
        {
          "output_type": "stream",
          "text": [
            "What is your name?hola\n"
          ],
          "name": "stdout"
        },
        {
          "output_type": "error",
          "ename": "TypeError",
          "evalue": "ignored",
          "traceback": [
            "\u001b[0;31m---------------------------------------------------------------------------\u001b[0m",
            "\u001b[0;31mTypeError\u001b[0m                                 Traceback (most recent call last)",
            "\u001b[0;32m<ipython-input-10-ad472187b2c2>\u001b[0m in \u001b[0;36m<module>\u001b[0;34m()\u001b[0m\n\u001b[1;32m      1\u001b[0m \u001b[0;31m# Errores de tipo de dato\u001b[0m\u001b[0;34m\u001b[0m\u001b[0;34m\u001b[0m\u001b[0;34m\u001b[0m\u001b[0m\n\u001b[1;32m      2\u001b[0m \u001b[0mnum_char\u001b[0m \u001b[0;34m=\u001b[0m \u001b[0mlen\u001b[0m\u001b[0;34m(\u001b[0m\u001b[0minput\u001b[0m\u001b[0;34m(\u001b[0m\u001b[0;34m\"What is your name?\"\u001b[0m\u001b[0;34m)\u001b[0m\u001b[0;34m)\u001b[0m\u001b[0;34m\u001b[0m\u001b[0;34m\u001b[0m\u001b[0m\n\u001b[0;32m----> 3\u001b[0;31m \u001b[0mprint\u001b[0m\u001b[0;34m(\u001b[0m\u001b[0;34m\"Your name has \"\u001b[0m \u001b[0;34m+\u001b[0m \u001b[0;34m+\u001b[0m \u001b[0;34m\"characters\"\u001b[0m\u001b[0;34m)\u001b[0m\u001b[0;34m\u001b[0m\u001b[0;34m\u001b[0m\u001b[0m\n\u001b[0m",
            "\u001b[0;31mTypeError\u001b[0m: bad operand type for unary +: 'str'"
          ]
        }
      ]
    },
    {
      "cell_type": "code",
      "metadata": {
        "colab": {
          "base_uri": "https://localhost:8080/"
        },
        "id": "NJZoZZ0ODCud",
        "outputId": "526cd366-229b-4681-c208-687db983ea81"
      },
      "source": [
        "# podemos ver el tipo de dato con type()\n",
        "print(type(num_char))"
      ],
      "execution_count": 12,
      "outputs": [
        {
          "output_type": "stream",
          "text": [
            "<class 'int'>\n"
          ],
          "name": "stdout"
        }
      ]
    },
    {
      "cell_type": "code",
      "metadata": {
        "colab": {
          "base_uri": "https://localhost:8080/"
        },
        "id": "HiS2QxTwDLLV",
        "outputId": "5fbc1bed-b8be-4151-f04e-f2ae8d8264c6"
      },
      "source": [
        "# Podemos hacer una conversión de tipo de dato con los métodos int(), str(), float, bool()\n",
        "new_num_char = str(num_char)\n",
        "print(\"Your name has \" + new_num_char + \" characters\")"
      ],
      "execution_count": 15,
      "outputs": [
        {
          "output_type": "stream",
          "text": [
            "Your name has 4 characters\n"
          ],
          "name": "stdout"
        }
      ]
    },
    {
      "cell_type": "code",
      "metadata": {
        "colab": {
          "base_uri": "https://localhost:8080/"
        },
        "id": "HmUTZEHJDmld",
        "outputId": "36187fc9-e08f-4691-d214-1db039a3b89d"
      },
      "source": [
        "print(70 + float(\"100.5\"))"
      ],
      "execution_count": 16,
      "outputs": [
        {
          "output_type": "stream",
          "text": [
            "170.5\n"
          ],
          "name": "stdout"
        }
      ]
    },
    {
      "cell_type": "code",
      "metadata": {
        "colab": {
          "base_uri": "https://localhost:8080/"
        },
        "id": "EMbU_UNJEarV",
        "outputId": "ac9ceb83-d04b-4880-8893-2cc941eeff33"
      },
      "source": [
        "print(str(70) + str(100))"
      ],
      "execution_count": 17,
      "outputs": [
        {
          "output_type": "stream",
          "text": [
            "70100\n"
          ],
          "name": "stdout"
        }
      ]
    },
    {
      "cell_type": "code",
      "metadata": {
        "colab": {
          "base_uri": "https://localhost:8080/"
        },
        "id": "o3KlSUnSEhX1",
        "outputId": "f89cab5f-d338-43be-9283-62bfe166af59"
      },
      "source": [
        "# Code Challenge\n",
        "number = input(\"Type a two digit number: \")\n",
        "print(int(str(number)[0]) + int(str(number)[1]))"
      ],
      "execution_count": 18,
      "outputs": [
        {
          "output_type": "stream",
          "text": [
            "Type a two digit number: 34\n",
            "7\n"
          ],
          "name": "stdout"
        }
      ]
    },
    {
      "cell_type": "code",
      "metadata": {
        "colab": {
          "base_uri": "https://localhost:8080/"
        },
        "id": "6nlApzV6FGFF",
        "outputId": "8f07547a-b9c4-4509-873a-86318eaef56e"
      },
      "source": [
        "# Prioridad de operadores\n",
        "# PEMDAS\n",
        "# P Parentesis\n",
        "# E Exponente\n",
        "# M Multiplicacion\n",
        "# D Division\n",
        "# A Adicion\n",
        "# S Sustraccion \n",
        "print(3 * 3  + 3 / 3 - 3)"
      ],
      "execution_count": 19,
      "outputs": [
        {
          "output_type": "stream",
          "text": [
            "7.0\n"
          ],
          "name": "stdout"
        }
      ]
    },
    {
      "cell_type": "code",
      "metadata": {
        "colab": {
          "base_uri": "https://localhost:8080/"
        },
        "id": "cJd4hgGkHCSN",
        "outputId": "283a5052-cf4c-40a9-d7ea-c4321f4c14d7"
      },
      "source": [
        "# Code Challenge\n",
        "height = input(\"enter your height in m: \")\n",
        "weight = input(\"enter your weight in kg: \")\n",
        "\n",
        "bmi = int(float(weight) / float(height) ** 2)\n",
        "\n",
        "print(bmi)"
      ],
      "execution_count": 24,
      "outputs": [
        {
          "output_type": "stream",
          "text": [
            "enter your height in m: 1.8\n",
            "enter your weight in kg: 64\n",
            "19\n"
          ],
          "name": "stdout"
        }
      ]
    },
    {
      "cell_type": "code",
      "metadata": {
        "colab": {
          "base_uri": "https://localhost:8080/"
        },
        "id": "NeOSNGzkN01A",
        "outputId": "8b54e265-4f80-4871-c5f7-09b34372b634"
      },
      "source": [
        "# Round\n",
        "print(round(8/3, 2))"
      ],
      "execution_count": 25,
      "outputs": [
        {
          "output_type": "stream",
          "text": [
            "2.67\n"
          ],
          "name": "stdout"
        }
      ]
    },
    {
      "cell_type": "code",
      "metadata": {
        "colab": {
          "base_uri": "https://localhost:8080/"
        },
        "id": "G91Wa1WPPShl",
        "outputId": "fc023e03-22f2-4045-c164-6be22458f13b"
      },
      "source": [
        "# Floor division\n",
        "# Regresa el entero mas grande posible que sea igual o menor al resultado de la division normal\n",
        "print(8 // 3)"
      ],
      "execution_count": 26,
      "outputs": [
        {
          "output_type": "stream",
          "text": [
            "2\n"
          ],
          "name": "stdout"
        }
      ]
    },
    {
      "cell_type": "code",
      "metadata": {
        "colab": {
          "base_uri": "https://localhost:8080/"
        },
        "id": "gJauRKbqQLsn",
        "outputId": "fe8fc76c-0def-4669-f202-3b1bf8595ce4"
      },
      "source": [
        "# Podemos usar la misma variable para las operaciones \n",
        "score = 25\n",
        "score += 1\n",
        "print(score)"
      ],
      "execution_count": 28,
      "outputs": [
        {
          "output_type": "stream",
          "text": [
            "26\n"
          ],
          "name": "stdout"
        }
      ]
    },
    {
      "cell_type": "code",
      "metadata": {
        "colab": {
          "base_uri": "https://localhost:8080/"
        },
        "id": "RvTi-ZGCQxRf",
        "outputId": "889740c7-f67a-470c-940a-3c42871eb9fa"
      },
      "source": [
        "# f strings\n",
        "score = 0\n",
        "height = 1.8\n",
        "isWinning =  True\n",
        "print(f\" your score is {score}, your height is {height}, you are winning is {isWinning}\")"
      ],
      "execution_count": 29,
      "outputs": [
        {
          "output_type": "stream",
          "text": [
            " your score is 0, your height is 1.8, you are winning is True\n"
          ],
          "name": "stdout"
        }
      ]
    },
    {
      "cell_type": "code",
      "metadata": {
        "colab": {
          "base_uri": "https://localhost:8080/"
        },
        "id": "Lhts2p-tR1WA",
        "outputId": "ae404424-b6f1-467a-f544-0af57f39928e"
      },
      "source": [
        "# Code challenge\n",
        "age = input(\"What is your current age? \")\n",
        "left = 90 - int(age)\n",
        "print(f\"You have {left*365} days, {left*52} weeks, and {left*12} months left.\")\n"
      ],
      "execution_count": 35,
      "outputs": [
        {
          "output_type": "stream",
          "text": [
            "What is your current age? 56\n",
            "You have 12410 days, 1768 weeks, and 408 months left.\n"
          ],
          "name": "stdout"
        }
      ]
    },
    {
      "cell_type": "code",
      "metadata": {
        "colab": {
          "base_uri": "https://localhost:8080/"
        },
        "id": "UhetKb4-T6in",
        "outputId": "13f6bc01-783c-45c8-de6d-15060c1768e3"
      },
      "source": [
        "# Day Project\n",
        "print(\"Welcome to the tip calculator\")\n",
        "bill = float(input(\"What was the total bill? $\"))\n",
        "tip = int(input(\"What percentage tip would you like to give? 10, 12, or 15? \"))\n",
        "split = int(input(\"How many people to split the bill? \"))\n",
        "print(f\"Each person should pay: ${round(((bill*(tip/100))+bill)/split, 2)}\")\n"
      ],
      "execution_count": 42,
      "outputs": [
        {
          "output_type": "stream",
          "text": [
            "Welcome to the tip calculator\n",
            "What was the total bill? $124.56\n",
            "What percentage tip would you like to give? 10, 12, or 15? 12\n",
            "How many people to split the bill? 7\n",
            "Each person should pay: $19.93\n"
          ],
          "name": "stdout"
        }
      ]
    },
    {
      "cell_type": "code",
      "metadata": {
        "id": "yDydvxraVgIp"
      },
      "source": [
        "  "
      ],
      "execution_count": null,
      "outputs": []
    }
  ]
}