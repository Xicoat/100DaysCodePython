{
  "nbformat": 4,
  "nbformat_minor": 0,
  "metadata": {
    "colab": {
      "name": "Day10.ipynb",
      "provenance": [],
      "authorship_tag": "ABX9TyNwsAiDvBWMjyB8k7PnsKZ9",
      "include_colab_link": true
    },
    "kernelspec": {
      "name": "python3",
      "display_name": "Python 3"
    },
    "language_info": {
      "name": "python"
    }
  },
  "cells": [
    {
      "cell_type": "markdown",
      "metadata": {
        "id": "view-in-github",
        "colab_type": "text"
      },
      "source": [
        "<a href=\"https://colab.research.google.com/github/Xicoat/100DaysCodePython/blob/main/Day10.ipynb\" target=\"_parent\"><img src=\"https://colab.research.google.com/assets/colab-badge.svg\" alt=\"Open In Colab\"/></a>"
      ]
    },
    {
      "cell_type": "code",
      "metadata": {
        "id": "s35MqHUi_5fH"
      },
      "source": [
        "#Funciones y salidas.\n",
        "\n",
        "def my_function(something):\n",
        "  #Do this with something\n",
        "  #Then do this\n",
        "  #Finally do this"
      ],
      "execution_count": null,
      "outputs": []
    },
    {
      "cell_type": "code",
      "metadata": {
        "colab": {
          "base_uri": "https://localhost:8080/"
        },
        "id": "rJw7RFL9AwHy",
        "outputId": "00ff7cc7-7f38-4e1b-baa8-47be989554fe"
      },
      "source": [
        "def format_name(f_name, l_name):\n",
        "  formated_f_name = f_name.title()\n",
        "  formted_l_name = l_name.title()\n",
        "\n",
        "  return f\"{formted_l_name} {formated_f_name}\"\n",
        "\n",
        "formated_string = format_name(\"CArLos\", \"aVilA\")\n",
        "print(formated_string)"
      ],
      "execution_count": null,
      "outputs": [
        {
          "output_type": "stream",
          "text": [
            "Avila Carlos\n"
          ],
          "name": "stdout"
        }
      ]
    },
    {
      "cell_type": "code",
      "metadata": {
        "colab": {
          "base_uri": "https://localhost:8080/"
        },
        "id": "P9gCyKOxD-L1",
        "outputId": "e95c262a-f0f1-463d-c9ea-847a1a4cfad8"
      },
      "source": [
        "# Multiple return values\n",
        "def format_name(f_name, l_name):\n",
        "  if f_name == \"\" or l_name == \"\":\n",
        "    return \"Not a valid input\"\n",
        "  formated_f_name = f_name.title()\n",
        "  formted_l_name = l_name.title()\n",
        "\n",
        "  return f\"{formated_f_name} {formted_l_name}\"\n",
        "\n",
        "formated_string = format_name(input(\"What is your fist name? \"), input(\"What is your second name? \"))\n",
        "print(formated_string)"
      ],
      "execution_count": null,
      "outputs": [
        {
          "output_type": "stream",
          "text": [
            "What is your fist name? Carlos\n",
            "What is your second name? ManuEl\n",
            "Manuel Carlos\n"
          ],
          "name": "stdout"
        }
      ]
    },
    {
      "cell_type": "code",
      "metadata": {
        "id": "sZWr5SBYI2TC"
      },
      "source": [
        "# Code Excercise\n",
        "def is_leap(year):\n",
        "  if year % 4 == 0:\n",
        "    if year % 100 == 0:\n",
        "      if year % 400 == 0:\n",
        "        return True\n",
        "      else:\n",
        "        return False\n",
        "    else:\n",
        "      return True\n",
        "  else:\n",
        "    return False\n",
        "\n",
        "def days_in_month(year, month):\n",
        "  month_days = [31, 28, 31, 30, 31, 30, 31, 31, 30, 31, 30, 31]\n",
        "  if (month == 2 and is_leap(year)):\n",
        "    return 29\n",
        "  return month_days[month-1]\n",
        "  \n",
        "  \n",
        "#🚨 Do NOT change any of the code below \n",
        "year = int(input(\"Enter a year: \"))\n",
        "month = int(input(\"Enter a month: \"))\n",
        "days = days_in_month(year, month)\n",
        "print(days)"
      ],
      "execution_count": null,
      "outputs": []
    },
    {
      "cell_type": "code",
      "metadata": {
        "colab": {
          "base_uri": "https://localhost:8080/"
        },
        "id": "miPqvfjybdhv",
        "outputId": "eb2a0bcb-88c4-4b29-c895-4b9633a8f3e2"
      },
      "source": [
        "# docstrings\n",
        "# Es una linea de documentación para nuestras funciones\n",
        "# Debe de ser la primera linea dentro de la función\n",
        "def imprime(cadena):\n",
        "  \"\"\"Muestra en pantalla una cadena de texto\"\"\"\n",
        "  print(cadena)\n",
        "\n",
        "imprime(\"Hola\")"
      ],
      "execution_count": null,
      "outputs": [
        {
          "output_type": "stream",
          "text": [
            "Hola\n"
          ],
          "name": "stdout"
        }
      ]
    },
    {
      "cell_type": "code",
      "metadata": {
        "colab": {
          "base_uri": "https://localhost:8080/"
        },
        "id": "XzQz7bmnc18n",
        "outputId": "17bc8e81-31df-43e7-f982-2063fd35094b"
      },
      "source": [
        "#Add\n",
        "def add(a, b):\n",
        "  return a + b\n",
        "#Substract\n",
        "def substract(a, b):\n",
        "  return a - b\n",
        "\n",
        "#Multiply\n",
        "def multiply(a, b):\n",
        "  return a * b\n",
        "\n",
        "#Divide\n",
        "def divide(a, b):\n",
        "  return a / b\n",
        "\n",
        "operations = {\n",
        "  \"+\":add, \n",
        "  \"-\":substract, \n",
        "  \"*\":multiply, \n",
        "  \"/\":divide\n",
        "  }\n",
        "\n",
        "\n",
        "\n",
        "def calculator():\n",
        "  opc = 'y'\n",
        "  num1 = float(input(\"Whats the first number? \"))\n",
        "  while(opc != 'n'):\n",
        "    for i in operations:\n",
        "      print(i)\n",
        "    operation_symbol = input(\"Pick an operation: \")\n",
        "    num2 = float(input(\"Whats the next number? \"))\n",
        "    calculation_function = operations[operation_symbol]\n",
        "    answer = calculation_function(num1, num2)\n",
        "    print(f\"{num1} {operation_symbol} {num2} = {answer}\")\n",
        "    num1 = answer\n",
        "    opc = input(\"Type 'y' to continue calculating with 8, or type 'n' to exit.: \")\n",
        "\n",
        "  calculator()\n",
        "\n",
        "calculator()\n",
        "\n",
        "  \n",
        "  "
      ],
      "execution_count": null,
      "outputs": [
        {
          "output_type": "stream",
          "text": [
            "Whats the first number? 4.5\n",
            "+\n",
            "-\n",
            "*\n",
            "/\n",
            "Pick an operation: *\n",
            "Whats the next number? 2\n",
            "4.5 * 2.0 = 9.0\n"
          ],
          "name": "stdout"
        }
      ]
    },
    {
      "cell_type": "code",
      "metadata": {
        "id": "d_7Id0DIeDml"
      },
      "source": [
        ""
      ],
      "execution_count": null,
      "outputs": []
    }
  ]
}