{
  "nbformat": 4,
  "nbformat_minor": 0,
  "metadata": {
    "colab": {
      "name": "Day7.ipynb",
      "provenance": [],
      "collapsed_sections": [],
      "authorship_tag": "ABX9TyM3dhr9QxG0vgY4oLDsv+CY",
      "include_colab_link": true
    },
    "kernelspec": {
      "name": "python3",
      "display_name": "Python 3"
    },
    "language_info": {
      "name": "python"
    }
  },
  "cells": [
    {
      "cell_type": "markdown",
      "metadata": {
        "id": "view-in-github",
        "colab_type": "text"
      },
      "source": [
        "<a href=\"https://colab.research.google.com/github/Xicoat/100DaysCodePython/blob/main/Day7.ipynb\" target=\"_parent\"><img src=\"https://colab.research.google.com/assets/colab-badge.svg\" alt=\"Open In Colab\"/></a>"
      ]
    },
    {
      "cell_type": "code",
      "metadata": {
        "id": "5DKtixLfvUrD"
      },
      "source": [
        "import random\n",
        "import hangman_words\n",
        "import hangman_art\n",
        "\n",
        "chosen_word = random.choice(hangman_words.word_list)\n",
        "word_length = len(chosen_word)\n",
        "\n",
        "end_of_game = False\n",
        "lives = 6\n",
        "\n",
        "\n",
        "print(hangman_art.logo)\n",
        "\n",
        "print(f'Pssst, the solution is {chosen_word}.')\n",
        "\n",
        "#Create blanks\n",
        "display = []\n",
        "for _ in range(word_length):\n",
        "    display += \"_\"\n",
        "\n",
        "while not end_of_game:\n",
        "    guess = input(\"Guess a letter: \").lower()\n",
        "\n",
        "    if guess in display:\n",
        "      print (\"Esta letra ya la has adivinado\")\n",
        "      break\n",
        "\n",
        "    #Check guessed letter\n",
        "    for position in range(word_length):\n",
        "        letter = chosen_word[position]\n",
        "        #print(f\"Current position: {position}\\n Current letter: {letter}\\n Guessed letter: {guess}\")\n",
        "        if letter == guess:\n",
        "            display[position] = letter\n",
        "\n",
        "    #Check if user is wrong.\n",
        "    if guess not in chosen_word:\n",
        "        print(\"Esa letra no es parte de la palabra. Pierdes una vida\")\n",
        "        lives -= 1\n",
        "        if lives == 0:\n",
        "            end_of_game = True\n",
        "            print(\"You lose.\")\n",
        "\n",
        "    #Join all the elements in the list and turn it into a String.\n",
        "    print(f\"{' '.join(display)}\")\n",
        "\n",
        "    #Check if user has got all letters.\n",
        "    if \"_\" not in display:\n",
        "        end_of_game = True\n",
        "        print(\"You win.\")\n",
        "\n",
        "    print(hangman_art.stages[lives])"
      ],
      "execution_count": null,
      "outputs": []
    }
  ]
}