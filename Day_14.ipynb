{
  "nbformat": 4,
  "nbformat_minor": 0,
  "metadata": {
    "colab": {
      "name": "Day 14.ipynb",
      "provenance": [],
      "authorship_tag": "ABX9TyP0D4IV0MrUTf0hjgMn5JIV",
      "include_colab_link": true
    },
    "kernelspec": {
      "name": "python3",
      "display_name": "Python 3"
    },
    "language_info": {
      "name": "python"
    }
  },
  "cells": [
    {
      "cell_type": "markdown",
      "metadata": {
        "id": "view-in-github",
        "colab_type": "text"
      },
      "source": [
        "<a href=\"https://colab.research.google.com/github/Xicoat/100DaysCodePython/blob/main/Day_14.ipynb\" target=\"_parent\"><img src=\"https://colab.research.google.com/assets/colab-badge.svg\" alt=\"Open In Colab\"/></a>"
      ]
    },
    {
      "cell_type": "code",
      "metadata": {
        "id": "Dxy0zNJAWdKi"
      },
      "source": [
        "from art import *\n",
        "from game_data import data\n",
        "from random import randint\n",
        "from replit import clear\n",
        "\n",
        "def get_B(a):\n",
        "  b = randint(0, len(data)-1)\n",
        "  if a != b:\n",
        "    return b\n",
        "  else:\n",
        "    get_B(a)\n",
        "\n",
        "def is_winner(a, b, answer):\n",
        "  print(f\"A has {data[a]['follower_count']} followers and B has {data[b]['follower_count']} followers\")\n",
        "  if answer == 'A':\n",
        "    if data[a]['follower_count'] > data[b]['follower_count']:\n",
        "      return True\n",
        "    else:\n",
        "      return False\n",
        "  elif answer == 'B':\n",
        "    if data[b]['follower_count'] > data[a]['follower_count']:\n",
        "      return True\n",
        "    else:\n",
        "      return False\n",
        "\n",
        "def loser(score):\n",
        "  clear()\n",
        "  print(logo)\n",
        "  print(f\"Sorry that's wrong. Final score: {score}\")\n",
        "\n",
        "score = 0\n",
        "a = randint(0, len(data)-1)\n",
        "while True:\n",
        "  print(f\"compare A: {data[a]['name']}, {data[a]['description']} from {data[a]['country']}\")\n",
        "  print(vs)\n",
        "  b = get_B(a)\n",
        "  print(f\"compare B: {data[b]['name']}, {data[b]['description']} from {data[b]['country']}\")\n",
        "  answer = input(\"Who has more followers? Type 'A' or 'B': \").upper()\n",
        "  if is_winner(a, b, answer):\n",
        "    clear()\n",
        "    score += 1\n",
        "    print(f\"You're right! Current score: {score}\")\n",
        "    a = b\n",
        "  else:\n",
        "    loser(score)\n",
        "    break"
      ],
      "execution_count": null,
      "outputs": []
    },
    {
      "cell_type": "code",
      "metadata": {
        "id": "xsXwULIcbbHd"
      },
      "source": [
        ""
      ],
      "execution_count": null,
      "outputs": []
    }
  ]
}