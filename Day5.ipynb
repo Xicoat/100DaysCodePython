{
  "nbformat": 4,
  "nbformat_minor": 0,
  "metadata": {
    "colab": {
      "name": "Day5.ipynb",
      "provenance": [],
      "collapsed_sections": [],
      "authorship_tag": "ABX9TyNkMaHQH9NYdoPvMrEfGPvh",
      "include_colab_link": true
    },
    "kernelspec": {
      "name": "python3",
      "display_name": "Python 3"
    },
    "language_info": {
      "name": "python"
    }
  },
  "cells": [
    {
      "cell_type": "markdown",
      "metadata": {
        "id": "view-in-github",
        "colab_type": "text"
      },
      "source": [
        "<a href=\"https://colab.research.google.com/github/Xicoat/100DaysCodePython/blob/main/Day5.ipynb\" target=\"_parent\"><img src=\"https://colab.research.google.com/assets/colab-badge.svg\" alt=\"Open In Colab\"/></a>"
      ]
    },
    {
      "cell_type": "code",
      "metadata": {
        "id": "TKunumGcb_EL"
      },
      "source": [
        "# Loops"
      ],
      "execution_count": null,
      "outputs": []
    },
    {
      "cell_type": "code",
      "metadata": {
        "colab": {
          "base_uri": "https://localhost:8080/"
        },
        "id": "qBQJ6pfRjLvM",
        "outputId": "e226267c-e248-44e6-f934-38e539502b73"
      },
      "source": [
        "# for loop\n",
        "fruits = [\"Apple\", \"Peach\", \"Pear\"]\n",
        "for fruit in fruits:\n",
        "  print(fruit)\n",
        "  print(fruit + \" pie\")"
      ],
      "execution_count": null,
      "outputs": [
        {
          "output_type": "stream",
          "text": [
            "Apple\n",
            "Apple pie\n",
            "Peach\n",
            "Peach pie\n",
            "Pear\n",
            "Pear pie\n"
          ],
          "name": "stdout"
        }
      ]
    },
    {
      "cell_type": "code",
      "metadata": {
        "colab": {
          "base_uri": "https://localhost:8080/"
        },
        "id": "P8ZVucNnlOC6",
        "outputId": "86244653-91e3-476a-fba9-f2d566eaafa2"
      },
      "source": [
        "# Coding excercise\n",
        "student_heights = input(\"Input a list of student heights \").split()\n",
        "for n in range(0, len(student_heights)):\n",
        "  student_heights[n] = int(student_heights[n])\n",
        "\n",
        "total = 0\n",
        "n = 0\n",
        "for i in student_heights:\n",
        "  total += i\n",
        "  n += 1\n",
        "\n",
        "print(f\"{int(total/n)}\")"
      ],
      "execution_count": null,
      "outputs": [
        {
          "output_type": "stream",
          "text": [
            "Input a list of student heights 156 178 165 171 187\n",
            "171\n"
          ],
          "name": "stdout"
        }
      ]
    },
    {
      "cell_type": "code",
      "metadata": {
        "id": "eSNioxahtohv"
      },
      "source": [
        "# Coding Exercise\n",
        "student_scores = input(\"Input a list of student scores \").split()\n",
        "for n in range(0, len(student_scores)):\n",
        "  student_scores[n] = int(student_scores[n])\n",
        "print(student_scores)\n",
        "\n",
        "maxim = 0\n",
        "for i in student_scores:\n",
        "  if i > maxim:\n",
        "    maxim = i\n",
        "\n",
        "print(f\"The highest score in the class is: {maxim}\")"
      ],
      "execution_count": null,
      "outputs": []
    },
    {
      "cell_type": "code",
      "metadata": {
        "id": "eDuER0hfkXNF"
      },
      "source": [
        "# for in range \n",
        "for number in range(start, end, step):\n",
        "  print(number)"
      ],
      "execution_count": null,
      "outputs": []
    },
    {
      "cell_type": "code",
      "metadata": {
        "colab": {
          "base_uri": "https://localhost:8080/"
        },
        "id": "MZZo6qfclWRX",
        "outputId": "6a134093-f154-4219-f795-dbfdb4765c9b"
      },
      "source": [
        "# Gauss problem\n",
        "total = 0\n",
        "for number in range(1, 101):\n",
        "  total += number\n",
        "\n",
        "print(total)"
      ],
      "execution_count": null,
      "outputs": [
        {
          "output_type": "stream",
          "text": [
            "5050\n"
          ],
          "name": "stdout"
        }
      ]
    },
    {
      "cell_type": "code",
      "metadata": {
        "id": "zmuCf_Jyt0tH"
      },
      "source": [
        "# Code challenge\n",
        "for i in range(1, 101):\n",
        "  if (i%5 == 0):\n",
        "    print(\"Fuzz\")\n",
        "    if (i%3 == 0):\n",
        "      print(\"FizzFuzz\")\n",
        "  elif (i%3 == 0):\n",
        "    print(\"Fuzz\")\n",
        "  else:\n",
        "    print(i)"
      ],
      "execution_count": null,
      "outputs": []
    },
    {
      "cell_type": "code",
      "metadata": {
        "id": "MdQ2dGxqxKtP"
      },
      "source": [
        "# Code challenge\n",
        "#Password Generator Project\n",
        "import random\n",
        "letters = ['a', 'b', 'c', 'd', 'e', 'f', 'g', 'h', 'i', 'j', 'k', 'l', 'm', 'n', 'o', 'p', 'q', 'r', 's', 't', 'u', 'v', 'w', 'x', 'y', 'z', 'A', 'B', 'C', 'D', 'E', 'F', 'G', 'H', 'I', 'J', 'K', 'L', 'M', 'N', 'O', 'P', 'Q', 'R', 'S', 'T', 'U', 'V', 'W', 'X', 'Y', 'Z']\n",
        "numbers = ['0', '1', '2', '3', '4', '5', '6', '7', '8', '9']\n",
        "symbols = ['!', '#', '$', '%', '&', '(', ')', '*', '+']\n",
        "\n",
        "print(\"Welcome to the PyPassword Generator!\")\n",
        "nr_letters= int(input(\"How many letters would you like in your password?\\n\")) \n",
        "nr_symbols = int(input(f\"How many symbols would you like?\\n\"))\n",
        "nr_numbers = int(input(f\"How many numbers would you like?\\n\"))\n",
        "\n",
        "#Eazy Level - Order not randomised:\n",
        "#e.g. 4 letter, 2 symbol, 2 number = JduE&!91\n",
        "pool = []\n",
        "psw = \"\"\n",
        "\n",
        "for i in range(nr_letters):\n",
        "  pool.append(letters[random.randint(0, 51)])\n",
        "for i in range(nr_symbols):\n",
        "  pool.append(symbols[random.randint(0, 8)])\n",
        "for i in range(nr_numbers):\n",
        "  pool.append(numbers[random.randint(0, 9)])\n",
        "\n",
        "random.shuffle(pool)\n",
        "for i in pool:\n",
        "  psw += i\n",
        "print(psw)"
      ],
      "execution_count": null,
      "outputs": []
    }
  ]
}