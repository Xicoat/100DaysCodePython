{
  "nbformat": 4,
  "nbformat_minor": 0,
  "metadata": {
    "colab": {
      "name": "Day6.ipynb",
      "provenance": [],
      "authorship_tag": "ABX9TyNq2oBPZBswJyupJKCELrS7",
      "include_colab_link": true
    },
    "kernelspec": {
      "name": "python3",
      "display_name": "Python 3"
    },
    "language_info": {
      "name": "python"
    }
  },
  "cells": [
    {
      "cell_type": "markdown",
      "metadata": {
        "id": "view-in-github",
        "colab_type": "text"
      },
      "source": [
        "<a href=\"https://colab.research.google.com/github/Xicoat/100DaysCodePython/blob/main/Day6.ipynb\" target=\"_parent\"><img src=\"https://colab.research.google.com/assets/colab-badge.svg\" alt=\"Open In Colab\"/></a>"
      ]
    },
    {
      "cell_type": "code",
      "metadata": {
        "id": "L4pQi-n-Nal-"
      },
      "source": [
        "# Defining Functions\n",
        "def my_function():\n",
        "  # Do this\n",
        "  # Then\n",
        "  # End\n",
        "\n",
        "# Call function\n",
        "return = my_fuction()"
      ],
      "execution_count": null,
      "outputs": []
    },
    {
      "cell_type": "code",
      "metadata": {
        "id": "5z3MMP2FTJuw"
      },
      "source": [
        "# https://reeborg.ca/reeborg.html\n",
        "def square(n, m):\n",
        "    for j in range(2):\n",
        "        for i in range(n):\n",
        "            move()\n",
        "        turn_left()\n",
        "        for i in range(m):\n",
        "            move()\n",
        "        turn_left()\n",
        "        \n",
        "square(3, 4)"
      ],
      "execution_count": null,
      "outputs": []
    },
    {
      "cell_type": "code",
      "metadata": {
        "id": "GeevXdErTOl_"
      },
      "source": [
        "#https://reeborg.ca/reeborg.html?lang=en&mode=python&menu=worlds%2Fmenus%2Freeborg_intro_en.json&name=Hurdle%201&url=worlds%2Ftutorial_en%2Fhurdle1.json\n",
        "def turn_right():\n",
        "    turn_left()\n",
        "    turn_left()\n",
        "    turn_left()\n",
        "\n",
        "def jump():\n",
        "    turn_left()\n",
        "    move()\n",
        "    turn_right()\n",
        "    move()\n",
        "    turn_right()\n",
        "    move()\n",
        "    turn_left()\n",
        "\n",
        "for i in range(6):\n",
        "    move()\n",
        "    jump()"
      ],
      "execution_count": null,
      "outputs": []
    },
    {
      "cell_type": "code",
      "metadata": {
        "id": "Oqtnu0dTcuYa"
      },
      "source": [
        "# While loop\n",
        "while something_is_true:\n",
        "  # Do this\n",
        "  # then do this\n",
        "  "
      ],
      "execution_count": null,
      "outputs": []
    },
    {
      "cell_type": "code",
      "metadata": {
        "id": "qxJCLd9pjjoc"
      },
      "source": [
        "# Code challenge\n",
        "def turn_right():\n",
        "    turn_left()\n",
        "    turn_left()\n",
        "    turn_left()\n",
        "\n",
        "def jump():\n",
        "    turn_left()\n",
        "    move()\n",
        "    turn_right()\n",
        "    move()\n",
        "    turn_right()\n",
        "    move()\n",
        "    turn_left()\n",
        "\n",
        "while at_goal() == 0:\n",
        "    move()\n",
        "    jump()"
      ],
      "execution_count": null,
      "outputs": []
    },
    {
      "cell_type": "code",
      "metadata": {
        "id": "4GY3HI70jl7n"
      },
      "source": [
        "# Code challenge\n",
        "def turn_right():\n",
        "    turn_left()\n",
        "    turn_left()\n",
        "    turn_left()\n",
        "\n",
        "def jump():\n",
        "    turn_left()\n",
        "    while right_is_clear() == False:\n",
        "        move()\n",
        "    turn_right()\n",
        "    move()\n",
        "    turn_right()\n",
        "    while front_is_clear() == True:\n",
        "        move()\n",
        "    turn_left()\n",
        "\n",
        "while at_goal() == 0:\n",
        "    if front_is_clear():\n",
        "        move()\n",
        "    else:\n",
        "        jump()"
      ],
      "execution_count": null,
      "outputs": []
    },
    {
      "cell_type": "code",
      "metadata": {
        "id": "ikbXEpf4p_NR"
      },
      "source": [
        "# Code Challenge Maze\n",
        "def turn_right():\n",
        "    turn_left()\n",
        "    turn_left()\n",
        "    turn_left()\n",
        "\n",
        "while not at_goal():\n",
        "    if front_is_clear() and wall_on_right():\n",
        "        move()\n",
        "    elif wall_in_front() and wall_on_right():\n",
        "        turn_left()\n",
        "    elif front_is_clear() and right_is_clear():\n",
        "        move()\n",
        "    else:\n",
        "        turn_right()\n",
        "        move()"
      ],
      "execution_count": null,
      "outputs": []
    },
    {
      "cell_type": "code",
      "metadata": {
        "id": "BjguqxP0dHeo"
      },
      "source": [
        ""
      ],
      "execution_count": null,
      "outputs": []
    }
  ]
}