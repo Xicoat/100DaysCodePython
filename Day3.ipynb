{
  "nbformat": 4,
  "nbformat_minor": 0,
  "metadata": {
    "colab": {
      "name": "Day3.ipynb",
      "provenance": [],
      "collapsed_sections": [],
      "authorship_tag": "ABX9TyNA8HFMTUiLVsoE+lM2wlQ0",
      "include_colab_link": true
    },
    "kernelspec": {
      "name": "python3",
      "display_name": "Python 3"
    },
    "language_info": {
      "name": "python"
    }
  },
  "cells": [
    {
      "cell_type": "markdown",
      "metadata": {
        "id": "view-in-github",
        "colab_type": "text"
      },
      "source": [
        "<a href=\"https://colab.research.google.com/github/Xicoat/100DaysCodePython/blob/main/Day3.ipynb\" target=\"_parent\"><img src=\"https://colab.research.google.com/assets/colab-badge.svg\" alt=\"Open In Colab\"/></a>"
      ]
    },
    {
      "cell_type": "code",
      "metadata": {
        "id": "iOBAsEcFo_qn"
      },
      "source": [
        "# Condicional IF\n",
        "if condition:\n",
        "  do this\n",
        "else: \n",
        "  do this"
      ],
      "execution_count": null,
      "outputs": []
    },
    {
      "cell_type": "code",
      "metadata": {
        "colab": {
          "base_uri": "https://localhost:8080/"
        },
        "id": "ab13ugTkpPAq",
        "outputId": "885a37ce-3c74-49dd-9afc-cca75ded8dbc"
      },
      "source": [
        "# El operador módulo (%) regresa el residuo de una división\n",
        "6 % 2"
      ],
      "execution_count": 2,
      "outputs": [
        {
          "output_type": "execute_result",
          "data": {
            "text/plain": [
              "0"
            ]
          },
          "metadata": {
            "tags": []
          },
          "execution_count": 2
        }
      ]
    },
    {
      "cell_type": "code",
      "metadata": {
        "colab": {
          "base_uri": "https://localhost:8080/"
        },
        "id": "8SUQq7Qu2Yj8",
        "outputId": "941e5414-eca2-485a-c902-659be7bb6906"
      },
      "source": [
        "# Escribir un programa que diga si el número es par o non\n",
        "number = int(input(\"Which number do you want to check? \"))\n",
        "if (number % 2 != 0):\n",
        "  print(\"El número es impar\")\n",
        "else:\n",
        "  print(\"El número es par\")"
      ],
      "execution_count": 6,
      "outputs": [
        {
          "output_type": "stream",
          "text": [
            "Which number do you want to check? 2\n",
            "El número es par\n"
          ],
          "name": "stdout"
        }
      ]
    },
    {
      "cell_type": "code",
      "metadata": {
        "id": "dQWz8PeW2s9l"
      },
      "source": [
        "# Nested if/else\n",
        "if condition:\n",
        "  if another condition:\n",
        "    do this\n",
        "  else:\n",
        "    do this\n",
        "else:\n",
        "  do this"
      ],
      "execution_count": null,
      "outputs": []
    },
    {
      "cell_type": "code",
      "metadata": {
        "id": "9-5Nu3BE8AKe"
      },
      "source": [
        "# if / elif / else\n",
        "if condition 1:\n",
        "  do A\n",
        "elif condition 2:\n",
        "  do B\n",
        "....\n",
        "else:\n",
        "  do this\n"
      ],
      "execution_count": null,
      "outputs": []
    },
    {
      "cell_type": "code",
      "metadata": {
        "colab": {
          "base_uri": "https://localhost:8080/"
        },
        "id": "LFyQKjGJ8sXr",
        "outputId": "f0d06235-fe42-4bcc-8544-2cdedb7c8df4"
      },
      "source": [
        "# Code Challenge 1\n",
        "height = float(input(\"enter your height in m: \"))\n",
        "weight = float(input(\"enter your weight in kg: \"))\n",
        "\n",
        "BMI = weight // height ** 2\n",
        "\n",
        "if BMI < 18.5:\n",
        "  print(f\"your bmi is {BMI} you are underweight\")\n",
        "elif BMI >= 18.5 and BMI < 25:\n",
        "  print(f\"your bmi is {BMI}, you have normal weight\")\n",
        "elif BMI >=25 and BMI < 30:\n",
        "  print(f\"your bmi is {BMI}, you are overweight\")\n",
        "elif BMI >= 30 and BMI < 35:\n",
        "  print(f\"your bmi is {BMI}, you are obese\")\n",
        "else:\n",
        "  print(f\"your bmi is {BMI}, you are clinically obese\")\n",
        "\n"
      ],
      "execution_count": 6,
      "outputs": [
        {
          "output_type": "stream",
          "text": [
            "enter your height in m: 1.5\n",
            "enter your weight in kg: 152\n",
            "your bmi is 67.0, you are clinically obese\n"
          ],
          "name": "stdout"
        }
      ]
    },
    {
      "cell_type": "code",
      "metadata": {
        "colab": {
          "base_uri": "https://localhost:8080/"
        },
        "id": "31jDRJNTeooM",
        "outputId": "fa473778-ee28-46c5-9ff2-6a9a585bed68"
      },
      "source": [
        "# Code Challenge 2\n",
        "# Verifica si un año es bisiesto\n",
        "year = int (input(\"Which year do you want to check?\"))\n",
        "bisiesto = False\n",
        "\n",
        "if year % 4 == 0:\n",
        "  if year % 100 == 0:\n",
        "    if year % 400 == 0:\n",
        "      bisiesto = True\n",
        "    else:\n",
        "      bisiesto = False\n",
        "  else:\n",
        "    bisiesto = True\n",
        "else:\n",
        "  bsiesto = False\n",
        "\n",
        "if (bisiesto == False):\n",
        "  print(f\"Year {year} is not leap\")\n",
        "elif (bisiesto == True):\n",
        "  print(f\"Year {year} is leap\")"
      ],
      "execution_count": 18,
      "outputs": [
        {
          "output_type": "stream",
          "text": [
            "Which year do you want to check?2100\n",
            "Year 2100 is not leap\n"
          ],
          "name": "stdout"
        }
      ]
    },
    {
      "cell_type": "code",
      "metadata": {
        "colab": {
          "base_uri": "https://localhost:8080/"
        },
        "id": "ccfmyEuGlvBT",
        "outputId": "fbafc6af-213b-4fd7-9902-1b3e33e2263d"
      },
      "source": [
        "# Code Challenge 3\n",
        "# Build an automatic pizza order program\n",
        "\n",
        "print(\"Welcome to Python Pizza Deliveries\")\n",
        "size = input(\"What size pizza do you want? S, M, L \")\n",
        "add_pepperoni = input(\"Do you want pepperoni? Y or N \")\n",
        "extra_cheese = input(\"Do you want extra cheese? Y or N\")\n",
        "bill = 0\n",
        "\n",
        "if size == \"S\":\n",
        "  bill += 15\n",
        "elif size == \"M\":\n",
        "  bill += 20\n",
        "elif size == \"L\":\n",
        "  bill += 25\n",
        "\n",
        "if add_pepperoni == \"Y\":\n",
        "  if size == \"S\":\n",
        "    bill += 2\n",
        "  else:\n",
        "    bill += 3\n",
        "\n",
        "if extra_cheese == \"Y\":\n",
        "  bill += 1\n",
        "\n",
        "print(f\"Your final bill is: ${bill}\")\n"
      ],
      "execution_count": 19,
      "outputs": [
        {
          "output_type": "stream",
          "text": [
            "Welcome to Python Pizza Deliveries\n",
            "What size pizza do you want? S, M, L M\n",
            "Do you want pepperoni? Y or N N\n",
            "Do you want extra cheese? Y or NY\n",
            "Your final bill is: $21\n"
          ],
          "name": "stdout"
        }
      ]
    },
    {
      "cell_type": "code",
      "metadata": {
        "id": "EkC5jj0yyZl_"
      },
      "source": [
        "if condition1 & condition2 & condition3:\n",
        "  do this\n",
        "else: \n",
        "  do this"
      ],
      "execution_count": null,
      "outputs": []
    },
    {
      "cell_type": "code",
      "metadata": {
        "id": "GgrqFzRF58Th"
      },
      "source": [
        "# Logical operators\n",
        "A and B\n",
        "C or D\n",
        "not E"
      ],
      "execution_count": null,
      "outputs": []
    },
    {
      "cell_type": "code",
      "metadata": {
        "colab": {
          "base_uri": "https://localhost:8080/"
        },
        "id": "y9H_0euI6ejc",
        "outputId": "bbf197eb-75c0-4d47-cab0-245e4abbf667"
      },
      "source": [
        "# Code Challenge 4\n",
        "# Test compatibility between two people\n",
        "\n",
        "print(\"Welcome to the Love Calculator!\")\n",
        "name1 = input(\"What is your name? \\n\")\n",
        "name2 = input(\"What is their name? \\n\")\n",
        "\n",
        "names = name1.lower() + name2.lower()\n",
        "\n",
        "score_true = 0\n",
        "for i in \"true\":\n",
        "  score_true += names.count(i)\n",
        "\n",
        "score_love = 0\n",
        "for i in \"love\":\n",
        "  score_love += names.count(i)\n",
        "\n",
        "love_score = score_true * 10 + score_love\n",
        "\n",
        "if (love_score < 10) or (love_score > 90):\n",
        "  print(f\"Your score is {love_score}, you go together like coke and mentos.\")\n",
        "elif (love_score >= 40) or (love_score <= 50):\n",
        "  print(f\"Your score is {love_score}, you are alright together\")\n",
        "else:\n",
        "  print(f\"Your score is {love_score}\")\n",
        "\n"
      ],
      "execution_count": 36,
      "outputs": [
        {
          "output_type": "stream",
          "text": [
            "Welcome to the Love Calculator!\n",
            "What is your name? \n",
            "Carlos\n",
            "What is their name? \n",
            "Yeseidi\n",
            "Your score is 34, you are alright together\n"
          ],
          "name": "stdout"
        }
      ]
    },
    {
      "cell_type": "code",
      "metadata": {
        "colab": {
          "base_uri": "https://localhost:8080/"
        },
        "id": "Z1w1fxjf77cc",
        "outputId": "4fcf29d6-9a7f-4db6-ad54-0357a92aa19b"
      },
      "source": [
        "# Code Challenge 5\n",
        "# Treasure Island\n",
        "print(\"Welcome to treasure island○\")\n",
        "print(\"Your mission is to find a treasure\")\n",
        "opc = input(\"You're a cross road. Where do you want to go? Type 'left' or 'right'\")\n",
        "if opc == \"left\":\n",
        "  opc = input(\"swim or wait?\")\n",
        "  if opc == \"wait\":\n",
        "    opc = input(\"Wich door? Type 'Red', 'Yellow', 'Blue'\")\n",
        "    if opc == \"Yellow\":\n",
        "      print(\"You win\")\n",
        "    else: \n",
        "      print(\"Game Over\")\n",
        "  else:\n",
        "    print(\"Game Over\")\n",
        "else:\n",
        "  print(\"Game Over\")"
      ],
      "execution_count": 42,
      "outputs": [
        {
          "output_type": "stream",
          "text": [
            "Welcome to treasure island○\n",
            "Your mission is to find a treasure\n",
            "You're a cross road. Where do you want to go? Type 'left' or 'right'left\n",
            "swim or wait?wait\n",
            "Wich door? Type 'Red', 'Yellow', 'Blue'Blue\n",
            "Game Over\n"
          ],
          "name": "stdout"
        }
      ]
    },
    {
      "cell_type": "code",
      "metadata": {
        "id": "v7GDCN5vC9JQ"
      },
      "source": [
        ""
      ],
      "execution_count": null,
      "outputs": []
    }
  ]
}